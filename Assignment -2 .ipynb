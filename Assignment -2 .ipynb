{
 "cells": [
  {
   "cell_type": "code",
   "execution_count": null,
   "id": "ff6db048",
   "metadata": {},
   "outputs": [],
   "source": [
    "''' 1.What are the two values of the Boolean data type? How do you write them?'''\n",
    "Ans-\n",
    "    True and False are two values of Boolean data type. it is also conatained its numerical value as 1 , 0 for True , False\n",
    "    respectevely."
   ]
  },
  {
   "cell_type": "code",
   "execution_count": null,
   "id": "53a837a2",
   "metadata": {},
   "outputs": [],
   "source": [
    "'''2. What are the three different types of Boolean operators?'''\n",
    "\n",
    "Ans:-\n",
    "    There are three different types of Boolean operators in python and, or, not. these operators are used to compare values.\n",
    "    They evaluate whether two or more expressions are true or not true."
   ]
  },
  {
   "cell_type": "markdown",
   "id": "acb6cb59",
   "metadata": {},
   "source": [
    "### 3. Make a list of each Boolean operator's truth tables (i.e. every possible combination of Boolean values for the operator and what it evaluate ).\n",
    "\n",
    "### Ans:- \n",
    "### and truth table\n",
    "- every possible combination of Bolean values for and operator has been shown below \n",
    "- True  and\tTrue   evaluate  True\n",
    "- True  and\tFalse  evaluate  False\n",
    "- False and\tTrue   evaluate  False\n",
    "- False and\tFalse  evaluate  False \n",
    "- (note:- in 'and' operator if both conditions are true then it will return true otherwise return false.)\n",
    "\n",
    "### every possible combination of Bolean values for or operator has been shown below \n",
    "- True\tor\tTrue   evaluate\t True\n",
    "- True\tor\tFalse  evaluate\t True\n",
    "- False\tor\tTrue   evaluate\t True\n",
    "- False\tor\tFalse  evaluate\t False\n",
    "- (note:- in 'or' operator if one or both conditions are true then it will return true otherwise return false.)\n",
    "\n",
    "### every possible combination of Bolean values for not operator has been shown below \n",
    "- not\tTrue  evaluate  False\n",
    "- not\tFalse evaluate\tTrue\n",
    "- (note:- in 'not operator' if condition is false then it will return true and  if condition is true it will return false.)"
   ]
  },
  {
   "cell_type": "markdown",
   "id": "258fc876",
   "metadata": {},
   "source": [
    "### 4. What are the values of the following expressions?\n",
    "- (5 > 4) and (3 == 5)\n",
    "- not (5 > 4)\n",
    "- (5 > 4) or (3 == 5)\n",
    "- not ((5 > 4) or (3 == 5))\n",
    "- (True and True) and (True == False)\n",
    "- (not False) or (not True)\n"
   ]
  },
  {
   "cell_type": "code",
   "execution_count": 7,
   "id": "9523580c",
   "metadata": {},
   "outputs": [
    {
     "name": "stdout",
     "output_type": "stream",
     "text": [
      "False\n",
      "False\n",
      "True\n",
      "False\n",
      "False\n",
      "True\n"
     ]
    }
   ],
   "source": [
    "#Ans:- \n",
    "\n",
    "print((5>4) and (3==5))\n",
    "print(not(5>4))\n",
    "print((5>4) or (3==5))\n",
    "print(not(5>4) or (3==5))\n",
    "print((True and True) and (True == False))\n",
    "print((not False) or (not True))"
   ]
  },
  {
   "cell_type": "markdown",
   "id": "11c844fe",
   "metadata": {},
   "source": [
    "### 5. What are the six comparison operators?\n",
    "### Ans:- \n",
    "- Generally comparison operators are used to compare values. in python programming comparison operators return a boolean value True or False. I have listed here six comparison operators- equal to , not equal to, less than, greater than, less than equal to, greater than equal to.  == , != , <, >, <=, >= respectively."
   ]
  },
  {
   "cell_type": "markdown",
   "id": "d0670f59",
   "metadata": {},
   "source": [
    "### 6. How do you tell the difference between the equal to and assignment operators?Describe a condition and when you would use one.\n",
    "\n",
    "### Ans:- \n",
    "- when we use one = this is called assignment operator, and if we use double ==. This is called equal to comparison operator. assignment operator is used to assign a value or datatype whereas equal to comparison operator is used to compare two values. for example"
   ]
  },
  {
   "cell_type": "code",
   "execution_count": 8,
   "id": "8833f608",
   "metadata": {},
   "outputs": [
    {
     "data": {
      "text/plain": [
       "False"
      ]
     },
     "execution_count": 8,
     "metadata": {},
     "output_type": "execute_result"
    }
   ],
   "source": [
    "X = 50 # here = is assignment operator which tell us Variable X has an numerical value 50 as of now.\n",
    "Y = 10\n",
    "X==Y # here == is equal to comparison operator. which tell us Whether vales of X and Y are equal or not, True result means yes it is equal  false result means no this not equal."
   ]
  },
  {
   "cell_type": "markdown",
   "id": "d3efb82f",
   "metadata": {},
   "source": [
    "### 7. Identify the three blocks in this code:\n",
    "spam = 0\n",
    "if spam == 10:\n",
    "print('eggs')\n",
    "if spam > 5:\n",
    "print('bacon')\n",
    "else:\n",
    "print('ham')\n",
    "print('spam')\n",
    "print('spam')\n",
    "\n",
    "Ans:- In first instance it seems that here indentation is not mantained in this."
   ]
  },
  {
   "cell_type": "code",
   "execution_count": 9,
   "id": "1991c188",
   "metadata": {},
   "outputs": [
    {
     "ename": "IndentationError",
     "evalue": "expected an indented block (Temp/ipykernel_15544/2373325787.py, line 3)",
     "output_type": "error",
     "traceback": [
      "\u001b[1;36m  File \u001b[1;32m\"C:\\Users\\Vikas\\AppData\\Local\\Temp/ipykernel_15544/2373325787.py\"\u001b[1;36m, line \u001b[1;32m3\u001b[0m\n\u001b[1;33m    print('eggs')\u001b[0m\n\u001b[1;37m    ^\u001b[0m\n\u001b[1;31mIndentationError\u001b[0m\u001b[1;31m:\u001b[0m expected an indented block\n"
     ]
    }
   ],
   "source": [
    "spam = 0\n",
    "if spam == 10:\n",
    "print('eggs')\n",
    "if spam > 5:\n",
    "print('bacon')\n",
    "else:\n",
    "print('ham')\n",
    "print('spam')\n",
    "print('spam')"
   ]
  },
  {
   "cell_type": "code",
   "execution_count": 10,
   "id": "3433f1b4",
   "metadata": {},
   "outputs": [
    {
     "name": "stdout",
     "output_type": "stream",
     "text": [
      "ham\n",
      "spam\n",
      "spam\n"
     ]
    }
   ],
   "source": [
    "# Ans:-\n",
    "spam = 0\n",
    "if spam == 10:\n",
    "    print('eggs')\n",
    "if spam > 5:\n",
    "    print('bacon')\n",
    "else:\n",
    "    print('ham')\n",
    "    print('spam')\n",
    "    print('spam')"
   ]
  },
  {
   "cell_type": "markdown",
   "id": "bfac199f",
   "metadata": {},
   "source": [
    "### 8. Write code that prints Hello if 1 is stored in spam, prints Howdy if 2 is stored in spam, and prints Greetings! if anything else is stored in spam."
   ]
  },
  {
   "cell_type": "code",
   "execution_count": 11,
   "id": "ff300c17",
   "metadata": {},
   "outputs": [
    {
     "name": "stdout",
     "output_type": "stream",
     "text": [
      "8\n",
      "Greetings!\n"
     ]
    }
   ],
   "source": [
    "spam = int(input())\n",
    "if spam == 1:\n",
    "    print(\"Hello\")\n",
    "elif spam == 2:\n",
    "     print(\"Howdy\")\n",
    "else :\n",
    "    print(\"Greetings!\")"
   ]
  },
  {
   "cell_type": "markdown",
   "id": "b773b767",
   "metadata": {},
   "source": [
    "### 9.If your programme is stuck in an endless loop, what keys you’ll press?\n",
    "- Ans:- I will click interrupt the kernel button"
   ]
  },
  {
   "cell_type": "code",
   "execution_count": null,
   "id": "6a523dd0",
   "metadata": {},
   "outputs": [],
   "source": [
    "10. How can you tell the difference between break and continue?\n",
    "\n",
    "Ans:-\n",
    "#    Break and continue are loop control statements in python. whenever we write loop statements and if we want to terminate\n",
    "#    or skip the loop we can use these loop control statements. lets understand how these statements work-\n",
    "\n",
    "#    Break -if we write break statement in a loop then it will terminate the loop and process next statement in the programme. \n",
    "#    for example if we have a list of numbers from 0 to 10 and we only want to print 0 to 5 while using loop statement then we\n",
    "#    can write break statement after a condition.\n",
    "\n",
    "for i in range(10):\n",
    "    print(i)\n",
    "    if i == 5:\n",
    "        break\n",
    "        \n",
    "#    continue - continue statement basically skip a perticular iteration in a loop. if we write continue statement in a loop\n",
    "#    then it will skip that perticular iteration and force to execute next iteration of the loop. for example if we want all \n",
    "#    number in the range except 5 then our code will be\n",
    " \n",
    "for i in range(10):\n",
    "    if i == 5:\n",
    "        continue\n",
    "    print(i)"
   ]
  },
  {
   "cell_type": "code",
   "execution_count": 12,
   "id": "2888256f",
   "metadata": {},
   "outputs": [
    {
     "name": "stdout",
     "output_type": "stream",
     "text": [
      "0\n",
      "1\n",
      "2\n",
      "3\n",
      "4\n",
      "5\n"
     ]
    }
   ],
   "source": [
    "# Break statement\n",
    "for i in range(10):\n",
    "    print(i)\n",
    "    if i == 5:\n",
    "        break"
   ]
  },
  {
   "cell_type": "code",
   "execution_count": 13,
   "id": "bf3bc2e9",
   "metadata": {},
   "outputs": [
    {
     "name": "stdout",
     "output_type": "stream",
     "text": [
      "0\n",
      "1\n",
      "2\n",
      "3\n",
      "4\n",
      "6\n",
      "7\n",
      "8\n",
      "9\n"
     ]
    }
   ],
   "source": [
    "# continue statement\n",
    "for i in range(10):\n",
    "    if i == 5:\n",
    "        continue\n",
    "    print(i)"
   ]
  },
  {
   "cell_type": "markdown",
   "id": "f5ac8664",
   "metadata": {},
   "source": [
    "### 11. In a for loop, what is the difference between range(10), range(0, 10), and range(0, 10, 1)?\n",
    "\n",
    "### Ans:- \n",
    "- range(10) will show series of all numbers from 0 to 10 except 10. if range takes one argument then it will start from o by default and will produce series of numbers from 0 to argument number except the number written.\n",
    "\n",
    "- range(0, 10)- this is taking two arguments start point and end point. it will represent series of all numbers from start point to end-1 points. End point will be excluded. so that this range will also represent 0,1,2,3,4,5,6,7,8,9. if there is range(5, 10) then series will be 5,6,7,8,9\n",
    "\n",
    "- range(0,10,1)- this is taking 3 arguments start point, end point, step with positive direction. it will show series of every next number in the range 0 to 10 except 10. if range(0, 10, 2) has been written then it will show series of every 2nd number from 0 to 10 except 10"
   ]
  },
  {
   "cell_type": "code",
   "execution_count": 14,
   "id": "c6abc83f",
   "metadata": {},
   "outputs": [
    {
     "name": "stdout",
     "output_type": "stream",
     "text": [
      "[0, 1, 2, 3, 4, 5, 6, 7, 8, 9]\n",
      "[0, 1, 2, 3, 4, 5, 6, 7, 8, 9]\n",
      "[0, 1, 2, 3, 4, 5, 6, 7, 8, 9]\n"
     ]
    }
   ],
   "source": [
    "print(list(range(10)))\n",
    "print(list(range(0, 10)))\n",
    "print(list(range(0, 10, 1)))"
   ]
  },
  {
   "cell_type": "markdown",
   "id": "17c209af",
   "metadata": {},
   "source": [
    "### 12. Write a short program that prints the numbers 1 to 10 using a for loop. Then write an equivalent program that prints the numbers 1 to 10 using a while loop."
   ]
  },
  {
   "cell_type": "code",
   "execution_count": 15,
   "id": "5a8a826e",
   "metadata": {},
   "outputs": [
    {
     "name": "stdout",
     "output_type": "stream",
     "text": [
      "1\n",
      "2\n",
      "3\n",
      "4\n",
      "5\n",
      "6\n",
      "7\n",
      "8\n",
      "9\n",
      "10\n"
     ]
    }
   ],
   "source": [
    "#Ans for loop\n",
    "for i in range(1,11):\n",
    "    print(i)"
   ]
  },
  {
   "cell_type": "code",
   "execution_count": 16,
   "id": "2d2ef632",
   "metadata": {},
   "outputs": [
    {
     "name": "stdout",
     "output_type": "stream",
     "text": [
      "1\n",
      "2\n",
      "3\n",
      "4\n",
      "5\n",
      "6\n",
      "7\n",
      "8\n",
      "9\n",
      "10\n"
     ]
    }
   ],
   "source": [
    "# while loop\n",
    "i = 1\n",
    "while i <= 10:\n",
    "    print(i)\n",
    "    i = i+1"
   ]
  },
  {
   "cell_type": "markdown",
   "id": "ef38ac29",
   "metadata": {},
   "source": [
    "### 13. If you had a function named bacon() inside a module named spam, how would you call it after importing spam?\n",
    "### Ans:-\n",
    "   - we can call a function of the module by using dot(.) operator along with module name. so that here we require spam.bacon()"
   ]
  },
  {
   "cell_type": "code",
   "execution_count": null,
   "id": "860296b1",
   "metadata": {},
   "outputs": [],
   "source": []
  }
 ],
 "metadata": {
  "kernelspec": {
   "display_name": "Python 3 (ipykernel)",
   "language": "python",
   "name": "python3"
  },
  "language_info": {
   "codemirror_mode": {
    "name": "ipython",
    "version": 3
   },
   "file_extension": ".py",
   "mimetype": "text/x-python",
   "name": "python",
   "nbconvert_exporter": "python",
   "pygments_lexer": "ipython3",
   "version": "3.9.7"
  }
 },
 "nbformat": 4,
 "nbformat_minor": 5
}
