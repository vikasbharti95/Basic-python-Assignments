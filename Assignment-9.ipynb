{
 "cells": [
  {
   "cell_type": "markdown",
   "id": "966659a6",
   "metadata": {},
   "source": [
    "## 1. To what does a relative path refer?"
   ]
  },
  {
   "cell_type": "markdown",
   "id": "e545aa09",
   "metadata": {},
   "source": [
    "Ans: relative path is a path of a file with respect to our current working directry.\n",
    "in python the keyword used for current working directory is- pwd"
   ]
  },
  {
   "cell_type": "code",
   "execution_count": 3,
   "id": "4e17d19a",
   "metadata": {},
   "outputs": [
    {
     "data": {
      "text/plain": [
       "'C:\\\\Users\\\\Vikas\\\\OneDrive\\\\Desktop\\\\Ineuron\\\\python\\\\class practise\\\\Python basic Assignment'"
      ]
     },
     "execution_count": 3,
     "metadata": {},
     "output_type": "execute_result"
    }
   ],
   "source": [
    "pwd"
   ]
  },
  {
   "cell_type": "markdown",
   "id": "89d892ba",
   "metadata": {},
   "source": [
    "## 2. What does an absolute path start with your operating system?"
   ]
  },
  {
   "cell_type": "markdown",
   "id": "0313b8af",
   "metadata": {},
   "source": [
    "Ans: I have a windows system in which absolute path start with C: whereas if i had linux system then my absolute path will start with \\"
   ]
  },
  {
   "cell_type": "markdown",
   "id": "95df5028",
   "metadata": {},
   "source": [
    "## 3. What do the functions os.getcwd() and os.chdir() do?"
   ]
  },
  {
   "cell_type": "markdown",
   "id": "bd463c49",
   "metadata": {},
   "source": [
    "Ans: os.getcwd() this method is used to get absolute path of current working directory as string value. \n",
    "whereas os.chdir() method is used for change the current working directory to a specified path."
   ]
  },
  {
   "cell_type": "code",
   "execution_count": 9,
   "id": "7ee3003f",
   "metadata": {},
   "outputs": [
    {
     "name": "stdout",
     "output_type": "stream",
     "text": [
      "C:\\Users\\Vikas\\OneDrive\\Desktop\\Ineuron\\python\\class practise\\Python basic Assignment\n"
     ]
    },
    {
     "data": {
      "text/plain": [
       "str"
      ]
     },
     "execution_count": 9,
     "metadata": {},
     "output_type": "execute_result"
    }
   ],
   "source": [
    "import os\n",
    "x=os.getcwd()\n",
    "print(x)\n",
    "type(x)"
   ]
  },
  {
   "cell_type": "code",
   "execution_count": 10,
   "id": "bcd6bf11",
   "metadata": {},
   "outputs": [
    {
     "name": "stdout",
     "output_type": "stream",
     "text": [
      "C:\\Users\\Vikas\\OneDrive\\Desktop\\Ineuron\\python\\class practise\\Python basic Assignment\n",
      "C:\\Users\\Vikas\\OneDrive\\Desktop\\Ineuron\n"
     ]
    }
   ],
   "source": [
    "print(os.getcwd())\n",
    "path = r'C:\\Users\\Vikas\\OneDrive\\Desktop\\Ineuron'\n",
    "os.chdir(path)\n",
    "print(os.getcwd())"
   ]
  },
  {
   "cell_type": "markdown",
   "id": "ea8278d5",
   "metadata": {},
   "source": [
    "## 4. What are the . and .. folders?"
   ]
  },
  {
   "cell_type": "markdown",
   "id": "71c11308",
   "metadata": {},
   "source": [
    "Ans: . is a current directory(folder) and .. is a parent directory(folder)"
   ]
  },
  {
   "cell_type": "code",
   "execution_count": 14,
   "id": "a52f4780",
   "metadata": {},
   "outputs": [
    {
     "name": "stdout",
     "output_type": "stream",
     "text": [
      "C:\\Users\\Vikas\\OneDrive\\Desktop\\Ineuron\n",
      "C:\\Users\\Vikas\\OneDrive\\Desktop\\Ineuron\n",
      "C:\\Users\\Vikas\\OneDrive\\Desktop\n"
     ]
    }
   ],
   "source": [
    "print(os.getcwd())\n",
    "path = r'.'\n",
    "os.chdir(path)\n",
    "print(os.getcwd())\n",
    "\n",
    "path1 = r'..'\n",
    "os.chdir(path1)\n",
    "print(os.getcwd())"
   ]
  },
  {
   "cell_type": "markdown",
   "id": "5aac9520",
   "metadata": {},
   "source": [
    "## 5. In C:\\bacon\\eggs\\spam.txt, which part is the dir name, and which part is the base name?"
   ]
  },
  {
   "cell_type": "markdown",
   "id": "eb7bc844",
   "metadata": {},
   "source": [
    "Ans: last right part in the file path is called base name. so here in this file path 'C:\\bacon\\eggs\\spam.txt' spam.txt is a base name. but this part 'C:\\bacon\\eggs\\' is dir name"
   ]
  },
  {
   "cell_type": "markdown",
   "id": "92b5223f",
   "metadata": {},
   "source": [
    "## 6. What are the three “mode” arguments that can be passed to the open() function?"
   ]
  },
  {
   "cell_type": "markdown",
   "id": "243f3672",
   "metadata": {},
   "source": [
    "Ans: A file can be Accessed in python using open() function. open function takes two arguments filename and mode of operation (optional). if mode is not provided the default mode of opening is read mode\n",
    "modes argument:\n",
    "- 'r' read mode: This is the default mode for open(). The file is opened and a pointer is positioned at the beginning of the file’s content.\n",
    "\n",
    "- 'w' write mode: Using this mode will overwrite any existing content in a file. If the given file does not exist, a new one will be created.\n",
    "\n",
    "- 'r+' read and write mode: Use this mode if you need simultaneously read and write to a file."
   ]
  },
  {
   "cell_type": "markdown",
   "id": "fd4da7e1",
   "metadata": {},
   "source": [
    "## 7. What happens if an existing file is opened in write mode?"
   ]
  },
  {
   "cell_type": "markdown",
   "id": "2b134e48",
   "metadata": {},
   "source": [
    "Ans: if an existing file is opened in write mode then we can overwrite on it. whatever previous content is, it will be overwritten by new one."
   ]
  },
  {
   "cell_type": "markdown",
   "id": "01839556",
   "metadata": {},
   "source": [
    "## 8. How do you tell the difference between read() and readlines()?"
   ]
  },
  {
   "cell_type": "markdown",
   "id": "a8afd4a3",
   "metadata": {},
   "source": [
    "Ans: read() this method is used if you want to read all content of the file. whereas by readline() method you can read all content of the file until new line."
   ]
  },
  {
   "cell_type": "code",
   "execution_count": 53,
   "id": "d1d3f1e7",
   "metadata": {},
   "outputs": [
    {
     "data": {
      "text/plain": [
       "'read() this method is used. \\nif you want to read all content of the file. \\nwhereas by readline() method \\nyou can read all content of the file until new line.'"
      ]
     },
     "execution_count": 53,
     "metadata": {},
     "output_type": "execute_result"
    }
   ],
   "source": [
    "f= open('test1.txt','r+')\n",
    "f.write(\"read() this method is used. \\nif you want to read all content of the file. \\nwhereas by readline() method \\nyou can read all content of the file until new line.\")\n",
    "f.seek(0)\n",
    "f.read()"
   ]
  },
  {
   "cell_type": "code",
   "execution_count": 54,
   "id": "803a42b7",
   "metadata": {},
   "outputs": [
    {
     "data": {
      "text/plain": [
       "'read() this method is used. \\n'"
      ]
     },
     "execution_count": 54,
     "metadata": {},
     "output_type": "execute_result"
    }
   ],
   "source": [
    "f.seek(0)\n",
    "f.readline()"
   ]
  },
  {
   "cell_type": "markdown",
   "id": "e87de348",
   "metadata": {},
   "source": [
    "## 9. What data structure does a shelf value resemble?"
   ]
  },
  {
   "cell_type": "markdown",
   "id": "d5a5d559",
   "metadata": {},
   "source": [
    "Ans: it is like dictionary data type which has key value pair."
   ]
  },
  {
   "cell_type": "code",
   "execution_count": null,
   "id": "77a4a048",
   "metadata": {},
   "outputs": [],
   "source": []
  }
 ],
 "metadata": {
  "kernelspec": {
   "display_name": "Python 3 (ipykernel)",
   "language": "python",
   "name": "python3"
  },
  "language_info": {
   "codemirror_mode": {
    "name": "ipython",
    "version": 3
   },
   "file_extension": ".py",
   "mimetype": "text/x-python",
   "name": "python",
   "nbconvert_exporter": "python",
   "pygments_lexer": "ipython3",
   "version": "3.9.7"
  }
 },
 "nbformat": 4,
 "nbformat_minor": 5
}
