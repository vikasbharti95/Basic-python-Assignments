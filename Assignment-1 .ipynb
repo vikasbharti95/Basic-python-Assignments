{
 "cells": [
  {
   "cell_type": "code",
   "execution_count": null,
   "id": "bd4e173f",
   "metadata": {},
   "outputs": [],
   "source": [
    "''' 1.In the below elements which of them are values or an expression? eg: values can be integer or string and expressions \n",
    "will be mathematical operators.\n",
    "* \n",
    "'hello'\n",
    "-87.8\n",
    "- \n",
    "/ \n",
    "\n",
    "+\n",
    "6 '''\n",
    "\n",
    "Ans:- In given question expressions are *,-,/,+ and values are 'hello', -87.8, 6\n"
   ]
  },
  {
   "cell_type": "code",
   "execution_count": null,
   "id": "2154d600",
   "metadata": {},
   "outputs": [],
   "source": [
    "'''2. What is the difference between string and variable?'''\n",
    "\n",
    "Ans:\n",
    "#    In python, string is a data type which is written between two double quote \" \" or single quote ' '.I mean any type of\n",
    "#    value written between \" \" or ' ' becomes string. for example 'Hello' or \"Hello\"or 'Hello123' or '6385' or '*+-/' etc. \n",
    "#    all are string values\n",
    "\n",
    "#    Genrally variable is an entity which is not static. its result depends on the input. In python except True or False it \n",
    "#    is just an alphabate, alphanumeric , combination of underscore with alphabate or alphanumeric entity assigned to a data\n",
    "#    type. for example- X, y, z, x1, hi123, First_name, first1_name etc.\n",
    "#    Integer or mathematical operators with alphabates at first place can not be assigned as variable in Python. for example\n",
    "#    1x, 123hello, *x ,@X etc.\n"
   ]
  },
  {
   "cell_type": "code",
   "execution_count": null,
   "id": "16d1f85e",
   "metadata": {},
   "outputs": [],
   "source": [
    "'''3. Describe three different data types?'''\n",
    "\n",
    "Ans:\n",
    "#    Integers- combination of all positive numbers and Negetive numbers with zero is an integer. Any desceret quantitative \n",
    "#    data is an integer Data type. for example 6, -80, -9999999, 99999999 etc. \n",
    "\n",
    "#    Float- Any Quantitative data which takes decimal values is a foat data type. for example 95.50, 45.698 etc.\n",
    "\n",
    "#    Boolean- Any Data type which take only two values True or False is a boolean data type. numerical value for True and \n",
    "#    False is 1 and 0 respectively. \n",
    "\n"
   ]
  },
  {
   "cell_type": "code",
   "execution_count": null,
   "id": "583519d6",
   "metadata": {},
   "outputs": [],
   "source": [
    "'''4. What is an expression made up of? What do all expressions do?'''\n",
    "\n",
    "Ans:-\n",
    "#    An expression is a combination of Mathematical operators and operands that is interpreted to produce some other value.\n",
    "#    where operands are the values or variables on which operators Act its computation. for example 4+5-2*2 is an expression\n",
    "#    and 4,5,2,2 are operands and +-* are operators. if we have assigned x, y, z variables then x+y-z/3 is also an expression\n",
    "#    where x,y,z,3 are operands.\n",
    "\n",
    "#    Expressions evaluate its value on the basis of operators.\n"
   ]
  },
  {
   "cell_type": "code",
   "execution_count": null,
   "id": "90fb8ec6",
   "metadata": {},
   "outputs": [],
   "source": [
    "'''5. This assignment statements, like spam = 10. What is the difference between an expression and a statement?'''\n",
    "\n",
    "Ans:-\n",
    "#    Expression is A piece of code that return a value whereas Statement is entire line of code that perform some sort of\n",
    "#    action. here spam=10, entire line is called statement. In layman if we have written a code after shift+enter\n",
    "#    if it doesn't give result in console and save its value inside the system then it is a Statement. for example below-"
   ]
  },
  {
   "cell_type": "code",
   "execution_count": 1,
   "id": "33d8a704",
   "metadata": {},
   "outputs": [],
   "source": [
    "A=10 # here whole code A=10 is a statement\n",
    "B=A*5 # here A*5 is Expression but B=A*5 is statement"
   ]
  },
  {
   "cell_type": "code",
   "execution_count": 2,
   "id": "199707f9",
   "metadata": {},
   "outputs": [
    {
     "data": {
      "text/plain": [
       "50"
      ]
     },
     "execution_count": 2,
     "metadata": {},
     "output_type": "execute_result"
    }
   ],
   "source": [
    "A*5 # this will produce a result in console. so this is an expression "
   ]
  },
  {
   "cell_type": "code",
   "execution_count": 3,
   "id": "aba9614f",
   "metadata": {},
   "outputs": [],
   "source": [
    "B=A*5 # this will save its value inside the system so it is a statement"
   ]
  },
  {
   "cell_type": "code",
   "execution_count": null,
   "id": "0e960e51",
   "metadata": {},
   "outputs": [],
   "source": [
    "'''6. After running the following code, what does the variable bacon contain?'''\n",
    "bacon = 22\n",
    "bacon + 1\n",
    "\n",
    "# Ans:- variable still contain original value 22"
   ]
  },
  {
   "cell_type": "code",
   "execution_count": 4,
   "id": "8324a479",
   "metadata": {},
   "outputs": [
    {
     "data": {
      "text/plain": [
       "23"
      ]
     },
     "execution_count": 4,
     "metadata": {},
     "output_type": "execute_result"
    }
   ],
   "source": [
    "bacon=22\n",
    "bacon+1"
   ]
  },
  {
   "cell_type": "code",
   "execution_count": 5,
   "id": "2e43faee",
   "metadata": {},
   "outputs": [
    {
     "data": {
      "text/plain": [
       "22"
      ]
     },
     "execution_count": 5,
     "metadata": {},
     "output_type": "execute_result"
    }
   ],
   "source": [
    "bacon"
   ]
  },
  {
   "cell_type": "code",
   "execution_count": null,
   "id": "74d927a7",
   "metadata": {},
   "outputs": [],
   "source": [
    "'''7. What should the values of the following two terms be?'''\n",
    "'spam' + 'spamspam'\n",
    "'spam' * 3"
   ]
  },
  {
   "cell_type": "code",
   "execution_count": 6,
   "id": "197919da",
   "metadata": {},
   "outputs": [
    {
     "data": {
      "text/plain": [
       "'spamspamspam'"
      ]
     },
     "execution_count": 6,
     "metadata": {},
     "output_type": "execute_result"
    }
   ],
   "source": [
    "#Ans : 'spam'+'spamspam', this code will just concatenate two words without space. And 'spam'*3 will repeat spam word 3 \n",
    "# times. Result can be seen below\n",
    "'spam'+'spamspam'"
   ]
  },
  {
   "cell_type": "code",
   "execution_count": 7,
   "id": "28de9424",
   "metadata": {},
   "outputs": [
    {
     "data": {
      "text/plain": [
       "'spamspamspam'"
      ]
     },
     "execution_count": 7,
     "metadata": {},
     "output_type": "execute_result"
    }
   ],
   "source": [
    "'spam'*3"
   ]
  },
  {
   "cell_type": "code",
   "execution_count": null,
   "id": "8a681422",
   "metadata": {},
   "outputs": [],
   "source": [
    "'''8. Why is eggs a valid variable name while 100 is invalid?'''\n",
    "\n",
    "Ans:- \n",
    "#    eggs is a valid variable because it is a alphabatical word it is not static itself. it can be assigned to any data \n",
    "#    type. whereas 100 is an integer which is a static value in itself."
   ]
  },
  {
   "cell_type": "code",
   "execution_count": null,
   "id": "ba3f9e2f",
   "metadata": {},
   "outputs": [],
   "source": [
    "'''9. What three functions can be used to get the integer, floating-point number, or string version of a value?'''\n",
    "\n",
    "Ans:\n",
    "    Lets take a value 100. if we use int(100), float(100), str(100) then we can get 100 as integer value, Float value and \n",
    "    string value respectively."
   ]
  },
  {
   "cell_type": "code",
   "execution_count": 8,
   "id": "a26f3b7b",
   "metadata": {},
   "outputs": [
    {
     "data": {
      "text/plain": [
       "100"
      ]
     },
     "execution_count": 8,
     "metadata": {},
     "output_type": "execute_result"
    }
   ],
   "source": [
    "int(100)"
   ]
  },
  {
   "cell_type": "code",
   "execution_count": 9,
   "id": "2088860b",
   "metadata": {},
   "outputs": [
    {
     "data": {
      "text/plain": [
       "100.0"
      ]
     },
     "execution_count": 9,
     "metadata": {},
     "output_type": "execute_result"
    }
   ],
   "source": [
    "float(100)"
   ]
  },
  {
   "cell_type": "code",
   "execution_count": 10,
   "id": "8a5cdebe",
   "metadata": {},
   "outputs": [
    {
     "data": {
      "text/plain": [
       "'100'"
      ]
     },
     "execution_count": 10,
     "metadata": {},
     "output_type": "execute_result"
    }
   ],
   "source": [
    "str(100)"
   ]
  },
  {
   "cell_type": "code",
   "execution_count": null,
   "id": "4d9c025a",
   "metadata": {},
   "outputs": [],
   "source": [
    "'''10. Why does this expression cause an error? How can you fix it?\n",
    "'I have eaten ' + 99 + ' burritos.'\n",
    "'''\n",
    "Ans: We can only concatenate string to string so 99 is an integer value so it can not be concatenate with a string value. \n",
    "    Here need to convert integer to string then only we can perform this. To do this we just put 99 in single quote like \n",
    "    '99'.\n",
    "    below i have done this"
   ]
  },
  {
   "cell_type": "code",
   "execution_count": 11,
   "id": "3daf2f07",
   "metadata": {},
   "outputs": [
    {
     "ename": "TypeError",
     "evalue": "can only concatenate str (not \"int\") to str",
     "output_type": "error",
     "traceback": [
      "\u001b[1;31m---------------------------------------------------------------------------\u001b[0m",
      "\u001b[1;31mTypeError\u001b[0m                                 Traceback (most recent call last)",
      "\u001b[1;32m~\\AppData\\Local\\Temp/ipykernel_1880/1337822666.py\u001b[0m in \u001b[0;36m<module>\u001b[1;34m\u001b[0m\n\u001b[1;32m----> 1\u001b[1;33m \u001b[1;34m'I have eaten'\u001b[0m\u001b[1;33m+\u001b[0m \u001b[1;36m99\u001b[0m \u001b[1;33m+\u001b[0m \u001b[1;34m' burritos.'\u001b[0m \u001b[1;31m#this will show error\u001b[0m\u001b[1;33m\u001b[0m\u001b[1;33m\u001b[0m\u001b[0m\n\u001b[0m",
      "\u001b[1;31mTypeError\u001b[0m: can only concatenate str (not \"int\") to str"
     ]
    }
   ],
   "source": [
    "'I have eaten'+ 99 + ' burritos.' #this will show error"
   ]
  },
  {
   "cell_type": "code",
   "execution_count": 12,
   "id": "483fce8e",
   "metadata": {},
   "outputs": [
    {
     "data": {
      "text/plain": [
       "'I have eaten 99 burritos.'"
      ]
     },
     "execution_count": 12,
     "metadata": {},
     "output_type": "execute_result"
    }
   ],
   "source": [
    "'I have eaten'+ ' 99' + ' burritos.' # 99 has been converted to string data "
   ]
  },
  {
   "cell_type": "code",
   "execution_count": null,
   "id": "436268d3",
   "metadata": {},
   "outputs": [],
   "source": []
  }
 ],
 "metadata": {
  "kernelspec": {
   "display_name": "Python 3 (ipykernel)",
   "language": "python",
   "name": "python3"
  },
  "language_info": {
   "codemirror_mode": {
    "name": "ipython",
    "version": 3
   },
   "file_extension": ".py",
   "mimetype": "text/x-python",
   "name": "python",
   "nbconvert_exporter": "python",
   "pygments_lexer": "ipython3",
   "version": "3.9.7"
  }
 },
 "nbformat": 4,
 "nbformat_minor": 5
}
