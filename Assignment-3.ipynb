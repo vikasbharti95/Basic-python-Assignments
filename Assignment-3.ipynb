{
 "cells": [
  {
   "cell_type": "code",
   "execution_count": null,
   "id": "cca09124",
   "metadata": {},
   "outputs": [],
   "source": [
    "'''\n",
    "1. Why are functions advantageous to have in your programs?\n",
    "\n",
    "'''\n",
    "Ans:-\n",
    "    while writing a program and if some codes are repeated then it is better to defining a function for that perticular code.\n",
    "    because this efficient way of writing a code and  will reduce overall time."
   ]
  },
  {
   "cell_type": "code",
   "execution_count": null,
   "id": "994b2057",
   "metadata": {},
   "outputs": [],
   "source": [
    "'''\n",
    "2. When does the code in a function run: when it's specified or when it's called?\n",
    "'''\n",
    "Ans-\n",
    "    code in a function run only when it is called.\n",
    "    "
   ]
  },
  {
   "cell_type": "code",
   "execution_count": null,
   "id": "2929f923",
   "metadata": {},
   "outputs": [],
   "source": [
    "'''\n",
    "3. What statement creates a function?\n",
    "'''\n",
    "Ans: statement for creating a function is written below\n",
    "    \n",
    "def function_name(a): # we can defining a function name, here \"a\" is an argument of the function. there can be multiple argument as well\n",
    "    #whatever code with respect to defined function, will be written here with proper indentation.\n",
    "    return a\n"
   ]
  },
  {
   "cell_type": "code",
   "execution_count": null,
   "id": "81d1be69",
   "metadata": {},
   "outputs": [],
   "source": [
    "'''\n",
    "4. What is the difference between a function and a function call?\n",
    "'''\n",
    "Ans:\n",
    "    Function will perform its operation only if we are calling it in a cell. Means after defining a function if we write it\n",
    "    in a cell means we are calling that function to perform its operation"
   ]
  },
  {
   "cell_type": "code",
   "execution_count": null,
   "id": "15fa67fb",
   "metadata": {},
   "outputs": [],
   "source": [
    "'''\n",
    "5. How many global scopes are there in a Python program? How many local scopes?\n",
    "'''\n",
    "Ans:\n",
    "    In the python module we have only one global scope. It is created with the start of python programme and get destroyed\n",
    "    with the termination of python programme.\n",
    "    Each function in python programme has its own local scope in which all its variable and objects are defined. so thhis \n",
    "    is possible to have more than one local programme in a python module itself.\n",
    "    "
   ]
  },
  {
   "cell_type": "code",
   "execution_count": null,
   "id": "731ffb02",
   "metadata": {},
   "outputs": [],
   "source": [
    "'''\n",
    "6. What happens to variables in a local scope when the function call returns?\n",
    "'''\n",
    "Ans:\n",
    "    Each call of function will creat a new local variable and its lifetime expires when all statements of the function\n",
    "    exhausted. means if a variable written in function we can not call that peerticular variable directly outside the function."
   ]
  },
  {
   "cell_type": "code",
   "execution_count": null,
   "id": "0e68b3a8",
   "metadata": {},
   "outputs": [],
   "source": [
    "'''\n",
    "7. What is the concept of a return value? Is it possible to have a return value in an expression?\n",
    "'''\n",
    "Ans:\n",
    "    return is reserved key of python this is used under function statement and it is followed by a return value. return\n",
    "    value is an object means everything return in python is an object like any data type- integer, string, float, complex\n",
    "    tuple, list, dictionary, user-defined objects, classes, functions, and even modules or packages.\n",
    "\n",
    "    it is not possible to use return keyword with an expression it is used only inside a function although values can be \n",
    "    find by other method\n",
    "    \n",
    "    "
   ]
  },
  {
   "cell_type": "code",
   "execution_count": null,
   "id": "a745237c",
   "metadata": {},
   "outputs": [],
   "source": [
    "'''\n",
    "8. If a function does not have a return statement, what is the return value of a call to that function?\n",
    "'''\n",
    "Ans:\n",
    "    if function does not have a return statement and if we call that function it will written nothing and this value will \n",
    "    be None type."
   ]
  },
  {
   "cell_type": "code",
   "execution_count": null,
   "id": "43e5f01f",
   "metadata": {},
   "outputs": [],
   "source": [
    "'''\n",
    "9. How do you make a function variable refer to the global variable?\n",
    "'''\n",
    "Ans:\n",
    "    To make function variable as global variable we need to use keyword global for that variable inside the function\n",
    "    statement."
   ]
  },
  {
   "cell_type": "code",
   "execution_count": null,
   "id": "7410d10a",
   "metadata": {},
   "outputs": [],
   "source": [
    "'''\n",
    "10. What is the data type of None?\n",
    "'''\n",
    "Ans:\n",
    "    None data type do not contain any value. it is definded to use null variable. None data types are not iterable. if a \n",
    "    data type is none then we can not do further operation on it."
   ]
  },
  {
   "cell_type": "code",
   "execution_count": null,
   "id": "c6415c87",
   "metadata": {},
   "outputs": [],
   "source": [
    "'''\n",
    "11. What does the sentence import areallyourpetsnamederic do?\n",
    "'''\n",
    "Ans:\n",
    "    Generally import keyword use to import a module in which many function may be defined. \n",
    "    so here import areallyourpetsnamederic this statement is going to import a module name areallyourpetsnamederic. if it \n",
    "    available otherwise it will show an error.\n",
    "    "
   ]
  },
  {
   "cell_type": "code",
   "execution_count": null,
   "id": "32fc94c8",
   "metadata": {},
   "outputs": [],
   "source": [
    "'''\n",
    "12. If you had a bacon() feature in a spam module, what would you call it after importing spam?\n",
    "'''\n",
    "Ans:\n",
    "    I would call spam.bacon()"
   ]
  },
  {
   "cell_type": "code",
   "execution_count": null,
   "id": "df1e2601",
   "metadata": {},
   "outputs": [],
   "source": [
    "'''\n",
    "13. What can you do to save a programme from crashing if it encounters an error?\n",
    "'''\n",
    "Ans:\n",
    "    we should write our script between 'try:' and 'except:' code block to handle the error. proper use of these block would\n",
    "    not crash the programme immediatly. "
   ]
  },
  {
   "cell_type": "code",
   "execution_count": null,
   "id": "c0693c60",
   "metadata": {},
   "outputs": [],
   "source": [
    "'''\n",
    "14. What is the purpose of the try clause? What is the purpose of the except clause?\n",
    "'''\n",
    "Ans:\n",
    "    if we are not sure whether all statements are correct and if we are concerned about the error. we can handle this \n",
    "    situation by putting all the statements inside 'try:' and 'except:'' block.\n",
    "    'try' clause says that execute all the statements until get an error and skip everything after that error statement\n",
    "    \n",
    "    'except' clause says that if try: block is unsucessful then only execute the statements of except: block"
   ]
  },
  {
   "cell_type": "code",
   "execution_count": 42,
   "id": "77d6014f",
   "metadata": {},
   "outputs": [
    {
     "name": "stdout",
     "output_type": "stream",
     "text": [
      "1 3 4 5 6\n",
      "hello\n",
      "hi\n"
     ]
    }
   ],
   "source": [
    "a =0\n",
    "b =4\n",
    "try:\n",
    "    print(1,3,4,5,6)\n",
    "    print('hello')\n",
    "    print(b/a)\n",
    "except Exception:\n",
    "    print('hi')"
   ]
  },
  {
   "cell_type": "code",
   "execution_count": 39,
   "id": "569123de",
   "metadata": {},
   "outputs": [
    {
     "name": "stdout",
     "output_type": "stream",
     "text": [
      "hello\n",
      "this is division\n",
      "5.0\n",
      "Good!\n"
     ]
    }
   ],
   "source": [
    "# for example\n",
    "a = 20\n",
    "b = 100\n",
    "try:\n",
    "    print('hello')   # here all the statements are successful so that statements of except block would not excuted\n",
    "    print('this is division')\n",
    "    c = b/a\n",
    "    print(c)\n",
    "    print('Good!')\n",
    "except Exception as e:\n",
    "    print('wrong input', e)\n",
    "    print('bye')\n",
    "    "
   ]
  },
  {
   "cell_type": "code",
   "execution_count": 41,
   "id": "077059bd",
   "metadata": {},
   "outputs": [
    {
     "name": "stdout",
     "output_type": "stream",
     "text": [
      "hello\n",
      "this is division\n",
      "wrong input division by zero\n",
      "bye\n"
     ]
    }
   ],
   "source": [
    "a = 0\n",
    "b = 100\n",
    "try:\n",
    "    print('hello')  \n",
    "    print('this is division') \n",
    "    c = b/a\n",
    "    print(c)         # in try block all stetements are correct but due to 0 denominator whatever written after this will not be excuted. \n",
    "    print('Good!')   # therefore interpreter will skip all the code written here and it would execute statemets of except: block\n",
    "except Exception as e:\n",
    "    print('wrong input', e) \n",
    "    print('bye') "
   ]
  },
  {
   "cell_type": "code",
   "execution_count": null,
   "id": "270663d2",
   "metadata": {},
   "outputs": [],
   "source": []
  }
 ],
 "metadata": {
  "kernelspec": {
   "display_name": "Python 3 (ipykernel)",
   "language": "python",
   "name": "python3"
  },
  "language_info": {
   "codemirror_mode": {
    "name": "ipython",
    "version": 3
   },
   "file_extension": ".py",
   "mimetype": "text/x-python",
   "name": "python",
   "nbconvert_exporter": "python",
   "pygments_lexer": "ipython3",
   "version": "3.9.7"
  }
 },
 "nbformat": 4,
 "nbformat_minor": 5
}
