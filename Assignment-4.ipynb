{
 "cells": [
  {
   "cell_type": "code",
   "execution_count": null,
   "id": "7a6ff0b9",
   "metadata": {},
   "outputs": [],
   "source": [
    "''' 1. What exactly is []'''\n",
    "Ans: [ ] is an empty list."
   ]
  },
  {
   "cell_type": "code",
   "execution_count": null,
   "id": "2969673e",
   "metadata": {},
   "outputs": [],
   "source": [
    "''' \n",
    "2. In a list of values stored in a variable called spam, how would you assign the value 'hello' as the third value? \n",
    " (Assume [2, 4, 6, 8, 10] are in spam.)\n",
    "'''\n",
    " Ans:\n",
    "spam = [2,4,6,8,10]\n",
    "spam[2] = \"hello\" "
   ]
  },
  {
   "cell_type": "code",
   "execution_count": 2,
   "id": "9b3f0002",
   "metadata": {},
   "outputs": [
    {
     "data": {
      "text/plain": [
       "[2, 4, 'hello', 8, 10]"
      ]
     },
     "execution_count": 2,
     "metadata": {},
     "output_type": "execute_result"
    }
   ],
   "source": [
    "spam"
   ]
  },
  {
   "cell_type": "code",
   "execution_count": null,
   "id": "e879aae3",
   "metadata": {},
   "outputs": [],
   "source": [
    "'''\n",
    "Let's pretend the spam includes the list ['a', 'b', 'c', 'd'] for the next three queries.\n",
    "3. What is the value of spam[int(int('3' * 2) / 11)]?\n",
    "4. What is the value of spam[-1]?\n",
    "5. What is the value of spam[:2]?\n",
    "'''"
   ]
  },
  {
   "cell_type": "code",
   "execution_count": 7,
   "id": "7c3b25ad",
   "metadata": {},
   "outputs": [
    {
     "data": {
      "text/plain": [
       "'d'"
      ]
     },
     "execution_count": 7,
     "metadata": {},
     "output_type": "execute_result"
    }
   ],
   "source": [
    "#Ans\n",
    "spam = ['a','b','c','d']\n",
    "spam[int(int('3'*2)/ 11)] # this will be spam[3] , 3rd index of spam which is d "
   ]
  },
  {
   "cell_type": "code",
   "execution_count": 8,
   "id": "e6906b59",
   "metadata": {},
   "outputs": [
    {
     "data": {
      "text/plain": [
       "'d'"
      ]
     },
     "execution_count": 8,
     "metadata": {},
     "output_type": "execute_result"
    }
   ],
   "source": [
    "spam[-1] # this is last index of spam which is d"
   ]
  },
  {
   "cell_type": "code",
   "execution_count": 9,
   "id": "4f9aeb12",
   "metadata": {},
   "outputs": [
    {
     "data": {
      "text/plain": [
       "['a', 'b']"
      ]
     },
     "execution_count": 9,
     "metadata": {},
     "output_type": "execute_result"
    }
   ],
   "source": [
    "spam[:2] # this will show 0th and 1st indexed value."
   ]
  },
  {
   "cell_type": "code",
   "execution_count": null,
   "id": "c6f57abe",
   "metadata": {},
   "outputs": [],
   "source": [
    "'''\n",
    "Let's pretend bacon has the list [3.14, 'cat,' 11, 'cat,' True] for the next three questions.\n",
    "6. What is the value of bacon.index('cat')?\n",
    "7. How does bacon.append(99) change the look of the list value in bacon?\n",
    "8. How does bacon.remove('cat') change the look of the list in bacon?\n",
    "\n",
    "'''"
   ]
  },
  {
   "cell_type": "code",
   "execution_count": 13,
   "id": "0620ac93",
   "metadata": {},
   "outputs": [
    {
     "data": {
      "text/plain": [
       "1"
      ]
     },
     "execution_count": 13,
     "metadata": {},
     "output_type": "execute_result"
    }
   ],
   "source": [
    "bacon = [3.14, 'cat', 11, 'cat', True]\n",
    "bacon.index('cat')"
   ]
  },
  {
   "cell_type": "code",
   "execution_count": 14,
   "id": "d38f3c4a",
   "metadata": {},
   "outputs": [
    {
     "data": {
      "text/plain": [
       "[3.14, 'cat', 11, 'cat', True, 99]"
      ]
     },
     "execution_count": 14,
     "metadata": {},
     "output_type": "execute_result"
    }
   ],
   "source": [
    "bacon.append(99) # 99 will be concatenated at the last position of the list\n",
    "bacon"
   ]
  },
  {
   "cell_type": "code",
   "execution_count": 16,
   "id": "f7d988fa",
   "metadata": {},
   "outputs": [
    {
     "data": {
      "text/plain": [
       "[3.14, 11, 'cat', True, 99]"
      ]
     },
     "execution_count": 16,
     "metadata": {},
     "output_type": "execute_result"
    }
   ],
   "source": [
    "bacon.remove('cat') #this function will remove first 'cat' element from the list this function get terminated as soon as it perform its first successful execution.\n",
    "bacon"
   ]
  },
  {
   "cell_type": "code",
   "execution_count": null,
   "id": "cd6aabc3",
   "metadata": {},
   "outputs": [],
   "source": [
    "'''\n",
    "9. What are the list concatenation and list replication operators?\n",
    "'''\n",
    "Ans:\n",
    "     + operator act as concatenation operator between two or more lists. it will concatenate all the lists and return \n",
    "    all element in a new list.\n",
    "    * operator act as replication operators for a list. if it is used then it will repeat all the element of list.\n",
    "    for example"
   ]
  },
  {
   "cell_type": "code",
   "execution_count": 37,
   "id": "989a81c0",
   "metadata": {},
   "outputs": [],
   "source": [
    "list1 = [1, 2, 3]\n",
    "list2 = ['a', 'b']"
   ]
  },
  {
   "cell_type": "code",
   "execution_count": 38,
   "id": "1cc02144",
   "metadata": {},
   "outputs": [
    {
     "data": {
      "text/plain": [
       "[1, 2, 3, 'a', 'b']"
      ]
     },
     "execution_count": 38,
     "metadata": {},
     "output_type": "execute_result"
    }
   ],
   "source": [
    "list1 + list2 #elements of list2 will be added at last. position of elements depends on how lists are added."
   ]
  },
  {
   "cell_type": "code",
   "execution_count": 39,
   "id": "70e2f57c",
   "metadata": {},
   "outputs": [
    {
     "data": {
      "text/plain": [
       "['a', 'b', 1, 2, 3]"
      ]
     },
     "execution_count": 39,
     "metadata": {},
     "output_type": "execute_result"
    }
   ],
   "source": [
    "list2 + list1"
   ]
  },
  {
   "cell_type": "code",
   "execution_count": null,
   "id": "5efc37f4",
   "metadata": {},
   "outputs": [],
   "source": [
    "'''\n",
    "10. What is difference between the list methods append() and insert()?\n",
    "'''\n",
    "Ans: list append() method appends an object at last in list whereas inser() add an object to a specified indexed position\n",
    "    for example"
   ]
  },
  {
   "cell_type": "code",
   "execution_count": 46,
   "id": "07a8ad1c",
   "metadata": {},
   "outputs": [
    {
     "name": "stdout",
     "output_type": "stream",
     "text": [
      "[3, 4, 5, 'p']\n",
      "['a', 'b', 't', 'c', 'd']\n"
     ]
    }
   ],
   "source": [
    "x = [3,4,5]\n",
    "x1 = ['a','b','c','d']\n",
    "x.append('p') # 'p' will be appended at last position\n",
    "print(x)\n",
    "x1.insert(2, 't') # 't' will be inserted at 2nd index position\n",
    "print(x1)"
   ]
  },
  {
   "cell_type": "code",
   "execution_count": null,
   "id": "c2f1b22e",
   "metadata": {},
   "outputs": [],
   "source": [
    "'''\n",
    "11. What are the two methods for removing items from a list?\n",
    "'''\n",
    "Ans: pop() and remove() are two method for removing items from a list.\n",
    "    pop() will remove an specified indexed item from a list. if no argument written then it will remove the last item \n",
    "    by default\n",
    "    remove() will remove the specified element. but it remove first occurance of element only not all.\n",
    "    for example\n",
    "    "
   ]
  },
  {
   "cell_type": "code",
   "execution_count": 51,
   "id": "990e8c06",
   "metadata": {},
   "outputs": [
    {
     "name": "stdout",
     "output_type": "stream",
     "text": [
      "[1, 2, 4, 5]\n",
      "['b', 'c', 'd', 'a', 'a', 'b']\n",
      "['a', 'b', 3, 4, 5]\n"
     ]
    }
   ],
   "source": [
    "a = [1,2,3,4,5]\n",
    "b = ['a','b','c','d','a','a','b']\n",
    "\n",
    "a.pop(2) #remove 2nd indexed item i.e. element 3 will be removed\n",
    "print(a)\n",
    "b.remove('a') #there is multiple 'a' so this will remove first 'a' only\n",
    "print(b)\n",
    "\n",
    "a1 = ['a','b',3,4,5, 5+8j]\n",
    "a1.pop() # no argument is given so this will remove the last element from the list a1 by default.\n",
    "print(a1)"
   ]
  },
  {
   "cell_type": "code",
   "execution_count": null,
   "id": "79694b00",
   "metadata": {},
   "outputs": [],
   "source": [
    "'''\n",
    "12. Describe how list values and string values are identical.\n",
    "'''\n",
    "Ans: indexing and slicing operations are identical for values of list and string. \n",
    "    we can concatenate and replicate their values by using + and * operator respectively. both values are iterable.\n",
    "    "
   ]
  },
  {
   "cell_type": "code",
   "execution_count": null,
   "id": "d91f5f71",
   "metadata": {},
   "outputs": [],
   "source": [
    "'''\n",
    "13. What's the difference between tuples and lists?\n",
    "\n",
    "'''\n",
    "And:1- syntex differences- syntex for list [], syntex for tuple ()\n",
    "    2- Mutability- list values are mutable but tuple values are immutable. means we can assign a value for a perticular \n",
    "       index in list but not in tuple.\n",
    "    3- Inbuilt functions- there are more inbuilt function in a list than a tuple. in list we can use remove(), pop(), insert()\n",
    "       operations but this is not available in case of tuple."
   ]
  },
  {
   "cell_type": "code",
   "execution_count": null,
   "id": "fa56b3f3",
   "metadata": {},
   "outputs": [],
   "source": [
    "'''\n",
    "14. How do you type a tuple value that only contains the integer 42?\n",
    "'''\n",
    "Ans: if there is only one element as string or integer we should use comma in the bracket after the element like as\n",
    "    (42,) is a tuple data itself."
   ]
  },
  {
   "cell_type": "code",
   "execution_count": 86,
   "id": "8d3b57b5",
   "metadata": {},
   "outputs": [
    {
     "name": "stdout",
     "output_type": "stream",
     "text": [
      "<class 'int'>\n",
      "<class 'tuple'>\n",
      "<class 'tuple'>\n"
     ]
    }
   ],
   "source": [
    "x= (42) # this is not tuple\n",
    "print(type(x))\n",
    "\n",
    "x1 = (42,)\n",
    "print(type(x1))\n",
    "\n",
    "#similarly\n",
    "x12 = ('vikas',)\n",
    "print(type(x12))"
   ]
  },
  {
   "cell_type": "code",
   "execution_count": null,
   "id": "958ed0a7",
   "metadata": {},
   "outputs": [],
   "source": [
    "'''\n",
    "15. How do you get a list value's tuple form? How do you get a tuple value's list form?\n",
    "'''\n",
    "Ans: we can convert a list values to tuple form By using tuple().\n",
    "     we also can convert tuple values to list form by using list(). for example "
   ]
  },
  {
   "cell_type": "code",
   "execution_count": 87,
   "id": "84844624",
   "metadata": {},
   "outputs": [],
   "source": [
    "a = [1,2,4,5]\n",
    "b = ('s','t','u','d')"
   ]
  },
  {
   "cell_type": "code",
   "execution_count": 88,
   "id": "4cf17e50",
   "metadata": {},
   "outputs": [
    {
     "data": {
      "text/plain": [
       "(1, 2, 4, 5)"
      ]
     },
     "execution_count": 88,
     "metadata": {},
     "output_type": "execute_result"
    }
   ],
   "source": [
    "tuple(a)"
   ]
  },
  {
   "cell_type": "code",
   "execution_count": 89,
   "id": "c9a8d26d",
   "metadata": {},
   "outputs": [
    {
     "data": {
      "text/plain": [
       "['s', 't', 'u', 'd']"
      ]
     },
     "execution_count": 89,
     "metadata": {},
     "output_type": "execute_result"
    }
   ],
   "source": [
    "list(b)"
   ]
  },
  {
   "cell_type": "code",
   "execution_count": null,
   "id": "e36d24cf",
   "metadata": {},
   "outputs": [],
   "source": [
    "'''\n",
    "16. Variables that \"contain\" list values are not necessarily lists themselves. Instead, what do they contain?\n",
    "'''\n",
    "Ans: They contain reference of values."
   ]
  },
  {
   "cell_type": "code",
   "execution_count": null,
   "id": "3cf8d8e7",
   "metadata": {},
   "outputs": [],
   "source": [
    "'''\n",
    "17. How do you distinguish between copy.copy() and copy.deepcopy()?\n",
    "'''\n",
    "Ans: copy module provides these two functions. copy() performs shallow copy while deepcopy() perform deep copy. let say we\n",
    "    have two variables a and b. where b = a and if we do some operations on b then it is normal that values of variable a\n",
    "    would also be get affected. to avoid this we use these functions. for example below"
   ]
  },
  {
   "cell_type": "code",
   "execution_count": 6,
   "id": "a9634ef8",
   "metadata": {},
   "outputs": [],
   "source": [
    "a = [4,5,6,'vikas',7]\n",
    "b = a"
   ]
  },
  {
   "cell_type": "code",
   "execution_count": 8,
   "id": "b6840d19",
   "metadata": {},
   "outputs": [],
   "source": [
    "b[4]= 'bharti'"
   ]
  },
  {
   "cell_type": "code",
   "execution_count": 9,
   "id": "8789238c",
   "metadata": {},
   "outputs": [
    {
     "data": {
      "text/plain": [
       "([4, 5, 6, 'vikas', 'bharti'], [4, 5, 6, 'vikas', 'bharti'])"
      ]
     },
     "execution_count": 9,
     "metadata": {},
     "output_type": "execute_result"
    }
   ],
   "source": [
    "a , b # a also get affected"
   ]
  },
  {
   "cell_type": "code",
   "execution_count": 12,
   "id": "12cf7444",
   "metadata": {},
   "outputs": [],
   "source": [
    "import copy\n",
    "a = [4,5,6,'vikas',7]\n",
    "b = copy.copy(a)"
   ]
  },
  {
   "cell_type": "code",
   "execution_count": 13,
   "id": "3c73f58f",
   "metadata": {},
   "outputs": [],
   "source": [
    "b[4]= 'bharti'"
   ]
  },
  {
   "cell_type": "code",
   "execution_count": 14,
   "id": "3d24e3d7",
   "metadata": {},
   "outputs": [
    {
     "data": {
      "text/plain": [
       "([4, 5, 6, 'vikas', 7], [4, 5, 6, 'vikas', 'bharti'])"
      ]
     },
     "execution_count": 14,
     "metadata": {},
     "output_type": "execute_result"
    }
   ],
   "source": [
    "a , b # no impact on variable a"
   ]
  },
  {
   "cell_type": "code",
   "execution_count": 16,
   "id": "7fadba3a",
   "metadata": {},
   "outputs": [
    {
     "data": {
      "text/plain": [
       "([4, 5, 6, 'vikas', ['bharti', 8, 9]], [4, 5, 6, 'vikas', ['bharti', 8, 9]])"
      ]
     },
     "execution_count": 16,
     "metadata": {},
     "output_type": "execute_result"
    }
   ],
   "source": [
    "a = [4,5,6,'vikas',[7,8,9]]\n",
    "b = copy.copy(a)\n",
    "b[4][0] = 'bharti' # if object is compound (nested) then shallow copy will not work.\n",
    "a , b"
   ]
  },
  {
   "cell_type": "code",
   "execution_count": 17,
   "id": "b33a458e",
   "metadata": {},
   "outputs": [
    {
     "data": {
      "text/plain": [
       "([4, 5, 6, 'vikas', [7, 8, 9]], [4, 5, 6, 'vikas', ['bharti', 8, 9]])"
      ]
     },
     "execution_count": 17,
     "metadata": {},
     "output_type": "execute_result"
    }
   ],
   "source": [
    "a = [4,5,6,'vikas',[7,8,9]]\n",
    "b = copy.deepcopy(a)\n",
    "b[4][0] = 'bharti'\n",
    "a , b"
   ]
  },
  {
   "cell_type": "code",
   "execution_count": null,
   "id": "cb6f7793",
   "metadata": {},
   "outputs": [],
   "source": []
  }
 ],
 "metadata": {
  "kernelspec": {
   "display_name": "Python 3 (ipykernel)",
   "language": "python",
   "name": "python3"
  },
  "language_info": {
   "codemirror_mode": {
    "name": "ipython",
    "version": 3
   },
   "file_extension": ".py",
   "mimetype": "text/x-python",
   "name": "python",
   "nbconvert_exporter": "python",
   "pygments_lexer": "ipython3",
   "version": "3.9.7"
  }
 },
 "nbformat": 4,
 "nbformat_minor": 5
}
