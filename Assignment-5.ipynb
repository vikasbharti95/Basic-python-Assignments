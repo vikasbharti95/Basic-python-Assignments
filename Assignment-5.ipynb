{
 "cells": [
  {
   "cell_type": "markdown",
   "id": "12769ff5",
   "metadata": {},
   "source": [
    "## 1. What does an empty dictionary's code look like?\n",
    "### Ans: {}"
   ]
  },
  {
   "cell_type": "markdown",
   "id": "5e3b1a7d",
   "metadata": {},
   "source": [
    "## 2. What is the value of a dictionary value with the key 'foo' and the value 42?\n",
    "\n",
    "### Ans: dict1 = {'foo': 42}\n",
    "####    key 'foo' has 42 value in this dictionary"
   ]
  },
  {
   "cell_type": "markdown",
   "id": "5891089b",
   "metadata": {},
   "source": [
    "## 3. What is the most significant distinction between a dictionary and a list?\n",
    "### Ans: \n",
    "####         List is ordered collection of data values (means indeces of list are always an integer start from zero) whereas dictionary \n",
    "####         is unordered collection of data values it is recorded as key value pair and its indeces can be any kind of information."
   ]
  },
  {
   "cell_type": "markdown",
   "id": "61d1b3e2",
   "metadata": {},
   "source": [
    "## 4. What happens if you try to access spam['foo'] if spam is {'bar': 100}?\n"
   ]
  },
  {
   "cell_type": "code",
   "execution_count": 1,
   "id": "0a6b108a",
   "metadata": {},
   "outputs": [
    {
     "ename": "KeyError",
     "evalue": "'foo'",
     "output_type": "error",
     "traceback": [
      "\u001b[1;31m---------------------------------------------------------------------------\u001b[0m",
      "\u001b[1;31mKeyError\u001b[0m                                  Traceback (most recent call last)",
      "\u001b[1;32m~\\AppData\\Local\\Temp/ipykernel_24308/707895574.py\u001b[0m in \u001b[0;36m<module>\u001b[1;34m\u001b[0m\n\u001b[0;32m      1\u001b[0m \u001b[1;31m# Ans\u001b[0m\u001b[1;33m\u001b[0m\u001b[1;33m\u001b[0m\u001b[0m\n\u001b[0;32m      2\u001b[0m \u001b[0mspam\u001b[0m \u001b[1;33m=\u001b[0m \u001b[1;33m{\u001b[0m\u001b[1;34m'bar'\u001b[0m\u001b[1;33m:\u001b[0m\u001b[1;36m100\u001b[0m\u001b[1;33m}\u001b[0m\u001b[1;33m\u001b[0m\u001b[1;33m\u001b[0m\u001b[0m\n\u001b[1;32m----> 3\u001b[1;33m \u001b[0mspam\u001b[0m\u001b[1;33m[\u001b[0m\u001b[1;34m'foo'\u001b[0m\u001b[1;33m]\u001b[0m \u001b[1;31m# it shows an error because we dont have 'foo' key and its value in the given dictinary\u001b[0m\u001b[1;33m\u001b[0m\u001b[1;33m\u001b[0m\u001b[0m\n\u001b[0m",
      "\u001b[1;31mKeyError\u001b[0m: 'foo'"
     ]
    }
   ],
   "source": [
    "# Ans\n",
    "spam = {'bar':100}\n",
    "spam['foo'] # it shows an error because we dont have 'foo' key and its value in the given dictinary"
   ]
  },
  {
   "cell_type": "markdown",
   "id": "b7f6f38d",
   "metadata": {},
   "source": [
    "## 5. If a dictionary is stored in spam, what is the difference between the expressions 'cat' in spam and 'cat' in spam.keys()?"
   ]
  },
  {
   "cell_type": "code",
   "execution_count": 18,
   "id": "91aa190a",
   "metadata": {},
   "outputs": [
    {
     "name": "stdout",
     "output_type": "stream",
     "text": [
      "True\n",
      "True\n"
     ]
    }
   ],
   "source": [
    "# Ans: 'cat' in spam means whether 'cat' is available for key in spam or not. And 'cat' in spam.key() means whether\n",
    "# any of the key of spam is 'cat' or not. both statements will produce Boolean vallue\n",
    "spam = {'cat':54, 'dog':45}\n",
    "print('cat' in spam)\n",
    "print('cat' in spam.keys())\n"
   ]
  },
  {
   "cell_type": "markdown",
   "id": "497e211e",
   "metadata": {},
   "source": [
    "## 6. If a dictionary is stored in spam, what is the difference between the expressions 'cat' in spam and 'cat' in spam.values()?"
   ]
  },
  {
   "cell_type": "code",
   "execution_count": 19,
   "id": "1f74f2c1",
   "metadata": {},
   "outputs": [
    {
     "name": "stdout",
     "output_type": "stream",
     "text": [
      "True\n",
      "False\n"
     ]
    }
   ],
   "source": [
    "# Ans: 'cat' in spam means whether 'cat' is a key in the given dictionary or not. whereas 'cat' in spam.values() \n",
    "# means whether 'cat' is a value in for any key or not\n",
    "spam = {'cat':54, 'dog':45}\n",
    "print('cat' in spam)\n",
    "print('cat' in spam.values())"
   ]
  },
  {
   "cell_type": "markdown",
   "id": "11ed880f",
   "metadata": {},
   "source": [
    "## 7. What is a shortcut for the following code?\n",
    "### if 'color' not in spam:\n",
    "### spam['color'] = 'black'\n",
    "\n"
   ]
  },
  {
   "cell_type": "code",
   "execution_count": 27,
   "id": "b2c1797e",
   "metadata": {},
   "outputs": [
    {
     "data": {
      "text/plain": [
       "{'cat': 54, 'dog': 45, 'color': 'black'}"
      ]
     },
     "execution_count": 27,
     "metadata": {},
     "output_type": "execute_result"
    }
   ],
   "source": [
    "# Ans:\n",
    "spam.setdefault('color', 'black')\n",
    "spam"
   ]
  },
  {
   "cell_type": "markdown",
   "id": "6562962e",
   "metadata": {},
   "source": [
    "## 8. How do you \"pretty print\" dictionary values using which module and function?"
   ]
  },
  {
   "cell_type": "code",
   "execution_count": 30,
   "id": "edcbbc79",
   "metadata": {},
   "outputs": [
    {
     "name": "stdout",
     "output_type": "stream",
     "text": [
      "{'a': 3,\n",
      " 'b': 4,\n",
      " 'c': [5, 6, 7],\n",
      " 'd': {'p': 8, 'q': 9},\n",
      " 'e': (11, 22, 33),\n",
      " 'f': 'hello',\n",
      " 'g': 45.0098,\n",
      " 'h': (5+7j)}\n"
     ]
    }
   ],
   "source": [
    "# Ans: we should use pprint module and pprint.pprint() function to print dictionary values. pprint() is nothing but a\n",
    "#      extended version of print function. it make easy to read and print the data\n",
    "\n",
    "import pprint\n",
    "dic1 = {'a':3, 'b':4, 'c':[5,6,7], 'd':{'p':8,'q':9}, 'e':(11,22,33), 'f':'hello', 'g':45.0098, 'h':5+7j}\n",
    "pprint.pprint(dic1)"
   ]
  },
  {
   "cell_type": "code",
   "execution_count": 31,
   "id": "f92a842f",
   "metadata": {},
   "outputs": [
    {
     "name": "stdout",
     "output_type": "stream",
     "text": [
      "{'a': 3, 'b': 4, 'c': [5, 6, 7], 'd': {'p': 8, 'q': 9}, 'e': (11, 22, 33), 'f': 'hello', 'g': 45.0098, 'h': (5+7j)}\n"
     ]
    }
   ],
   "source": [
    "print(dic1)"
   ]
  },
  {
   "cell_type": "code",
   "execution_count": null,
   "id": "fd6a5625",
   "metadata": {},
   "outputs": [],
   "source": []
  }
 ],
 "metadata": {
  "kernelspec": {
   "display_name": "Python 3 (ipykernel)",
   "language": "python",
   "name": "python3"
  },
  "language_info": {
   "codemirror_mode": {
    "name": "ipython",
    "version": 3
   },
   "file_extension": ".py",
   "mimetype": "text/x-python",
   "name": "python",
   "nbconvert_exporter": "python",
   "pygments_lexer": "ipython3",
   "version": "3.9.7"
  }
 },
 "nbformat": 4,
 "nbformat_minor": 5
}
