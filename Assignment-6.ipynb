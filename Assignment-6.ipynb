{
 "cells": [
  {
   "cell_type": "markdown",
   "id": "521bf05a",
   "metadata": {},
   "source": [
    "# 1. What are escape characters, and how do you use them?"
   ]
  },
  {
   "cell_type": "code",
   "execution_count": null,
   "id": "4e7f821c",
   "metadata": {},
   "outputs": [],
   "source": [
    "# Ans: whenever we enter an illegal character in a string we use backslash \\ there are many escape character which is listed below\n",
    "\\' single quote\n",
    "\\\" double quote\n",
    "\\\\ backslash\n",
    "\\n new line\n",
    "\\r carriage return\n",
    "\\t tab\n",
    "\\b backspace\n",
    "\\f form feed"
   ]
  },
  {
   "cell_type": "code",
   "execution_count": 23,
   "id": "25a499f3",
   "metadata": {},
   "outputs": [
    {
     "name": "stdout",
     "output_type": "stream",
     "text": [
      "I love 'Banana' fruit.\n",
      "I love my country \"india\".\n",
      "I live in w\\34 A-block\n",
      "Hello\n",
      " world\n",
      "world\n",
      "Hello\tworld\n",
      "hello\bworld\n",
      "hello\f",
      " world\n"
     ]
    }
   ],
   "source": [
    "print(\"I love \\'Banana\\' fruit.\")\n",
    "print(\"I love my country \\\"india\\\".\")\n",
    "print(\"I live in w\\\\34 A-block\")\n",
    "print(\"Hello\\n world\")\n",
    "print(\"Hello\\rworld\")\n",
    "print(\"Hello\\tworld\")\n",
    "print(\"hello\\bworld\")\n",
    "print(\"hello\\f world\")"
   ]
  },
  {
   "cell_type": "markdown",
   "id": "95ba87f1",
   "metadata": {},
   "source": [
    "# 2. What do the escape characters n and t stand for?"
   ]
  },
  {
   "cell_type": "code",
   "execution_count": 26,
   "id": "42a18aca",
   "metadata": {},
   "outputs": [],
   "source": [
    "#Ans: escape characters \\n stand for new line and \\t stand for tab space."
   ]
  },
  {
   "cell_type": "markdown",
   "id": "780d467d",
   "metadata": {},
   "source": [
    "# 3. What is the way to include backslash characters in a string?"
   ]
  },
  {
   "cell_type": "code",
   "execution_count": 28,
   "id": "8eb757bd",
   "metadata": {},
   "outputs": [
    {
     "name": "stdout",
     "output_type": "stream",
     "text": [
      "I live in w\\34 A-block\n"
     ]
    }
   ],
   "source": [
    "#Ans: \n",
    "x= \"I live in w\\\\34 A-block\"\n",
    "print(x)"
   ]
  },
  {
   "cell_type": "markdown",
   "id": "980cb8db",
   "metadata": {},
   "source": [
    "# 4. The string \"Howl's Moving Castle\" is a correct value. Why isn't the single quote character in the word Howl's not escaped a problem?"
   ]
  },
  {
   "cell_type": "code",
   "execution_count": null,
   "id": "c672471e",
   "metadata": {},
   "outputs": [],
   "source": [
    "#Ans: when we are using \" \" double quote for a string it is assumed that our string may contain ' quote. And if we are\n",
    "#     using ' ' for a string then it is assumed that our string may contain \" quote if required."
   ]
  },
  {
   "cell_type": "markdown",
   "id": "6e3c53ee",
   "metadata": {},
   "source": [
    "# 5. How do you write a string of newlines if you don't want to use the n character?"
   ]
  },
  {
   "cell_type": "code",
   "execution_count": 14,
   "id": "d703b6b8",
   "metadata": {},
   "outputs": [
    {
     "data": {
      "text/plain": [
       "'Hello\\nworld '"
      ]
     },
     "execution_count": 14,
     "metadata": {},
     "output_type": "execute_result"
    }
   ],
   "source": [
    "#Ans: we can use triple quoted string to write in new line \n",
    "'''Hello\n",
    "world '''"
   ]
  },
  {
   "cell_type": "markdown",
   "id": "2491e4de",
   "metadata": {},
   "source": [
    "# 6. What are the values of the given expressions?\n",
    "- 'Hello, world!'[1]\n",
    "- 'Hello, world!'[0:5]\n",
    "- 'Hello, world!'[:5]\n",
    "- 'Hello, world!'[3:]"
   ]
  },
  {
   "cell_type": "code",
   "execution_count": 16,
   "id": "9a8db75b",
   "metadata": {},
   "outputs": [
    {
     "name": "stdout",
     "output_type": "stream",
     "text": [
      "e\n",
      "Hello\n",
      "Hello\n",
      "lo, world!\n"
     ]
    }
   ],
   "source": [
    "#Ans: these are indexing and slicing operations in the string.\n",
    "print('Hello, world!'[1])\n",
    "print('Hello, world!'[0:5])\n",
    "print('Hello, world!'[:5])\n",
    "print('Hello, world!'[3:])\n"
   ]
  },
  {
   "cell_type": "markdown",
   "id": "f49a9dc9",
   "metadata": {},
   "source": [
    "# 7. What are the values of the following expressions?\n",
    "- 'Hello'.upper()\n",
    "- 'Hello'.upper().isupper()\n",
    "- 'Hello'.upper().lower()"
   ]
  },
  {
   "cell_type": "code",
   "execution_count": 20,
   "id": "7e3f2a92",
   "metadata": {},
   "outputs": [
    {
     "name": "stdout",
     "output_type": "stream",
     "text": [
      "HELLO\n",
      "True\n",
      "hello\n"
     ]
    }
   ],
   "source": [
    "#Ans: these are inbuilt function for string.\n",
    "print('Hello'.upper()) # this will make all capital letter \n",
    "print('Hello'.upper().isupper()) # first of all this will convert string into capital letter string then will check whether all letters are capital or not.\n",
    "print('Hello'.upper().lower())  # this will convert all letter into capital and then convert into small letter."
   ]
  },
  {
   "cell_type": "markdown",
   "id": "982f9a03",
   "metadata": {},
   "source": [
    "# 8. What are the values of the following expressions?\n",
    "- 'Remember, remember, the fifth of July.'.split()\n",
    "- '-'.join('There can only one.'.split())"
   ]
  },
  {
   "cell_type": "code",
   "execution_count": 35,
   "id": "076e361a",
   "metadata": {},
   "outputs": [
    {
     "name": "stdout",
     "output_type": "stream",
     "text": [
      "['Remember,', 'remember,', 'the', 'fifth', 'of', 'July.']\n",
      "There-can-only-one.\n"
     ]
    }
   ],
   "source": [
    "x= 'Remember, remember, the fifth of July.'.split() # this will return a list of all individual word of the string as its element.\n",
    "y = '-'.join('There can only one.'.split()) # first the string will be converted as a list of words element then this will add - between \n",
    "                                        # each word and again convert back as a string value.\n",
    "print(x)\n",
    "print(y)"
   ]
  },
  {
   "cell_type": "markdown",
   "id": "767c33ec",
   "metadata": {},
   "source": [
    "# 9. What are the methods for right-justifying, left-justifying, and centering a string?"
   ]
  },
  {
   "cell_type": "code",
   "execution_count": 48,
   "id": "b305213a",
   "metadata": {},
   "outputs": [
    {
     "data": {
      "text/plain": [
       "('vikas', 'vikas', 'vikas  ')"
      ]
     },
     "execution_count": 48,
     "metadata": {},
     "output_type": "execute_result"
    }
   ],
   "source": [
    "#Ans: These methods used to align the string.\n",
    "# let suppose we have string below\n",
    "x = 'vikas'\n",
    "x.ljust(4) , x.ljust(5), x.ljust(7) #if width of string is less then or equal to width specified in ljust() function, \n",
    "                                    # this will return same string otherwise it will align the string to the left and make \n",
    "                                    # length of string same as given. to complete the length it will fill remaining spaces."
   ]
  },
  {
   "cell_type": "code",
   "execution_count": 50,
   "id": "3a69c3b2",
   "metadata": {},
   "outputs": [
    {
     "data": {
      "text/plain": [
       "'vikas**'"
      ]
     },
     "execution_count": 50,
     "metadata": {},
     "output_type": "execute_result"
    }
   ],
   "source": [
    "x.ljust(7,'*') # here-  To complete the lenth ot will fill * to the remaining position."
   ]
  },
  {
   "cell_type": "code",
   "execution_count": 51,
   "id": "f2fa1667",
   "metadata": {},
   "outputs": [
    {
     "data": {
      "text/plain": [
       "('FSDS', 'FSDS', '  FSDS')"
      ]
     },
     "execution_count": 51,
     "metadata": {},
     "output_type": "execute_result"
    }
   ],
   "source": [
    "y ='FSDS'\n",
    "y.rjust(3), y.rjust(4), y.rjust(6) # similarly rjust() function behave just opposit of ljust() function. you can see string\n",
    "                                   # has been aligned to the right and remaining position has been filled with spaces "
   ]
  },
  {
   "cell_type": "code",
   "execution_count": 58,
   "id": "bfd13069",
   "metadata": {},
   "outputs": [
    {
     "data": {
      "text/plain": [
       "'    Inueron    '"
      ]
     },
     "execution_count": 58,
     "metadata": {},
     "output_type": "execute_result"
    }
   ],
   "source": [
    "z = \"Inueron\"\n",
    "z.center(15) #if given width is more than length of string then this function center() will try to align string at the center."
   ]
  },
  {
   "cell_type": "markdown",
   "id": "910f0d4d",
   "metadata": {},
   "source": [
    "# 10. What is the best way to remove whitespace characters from the start or end?"
   ]
  },
  {
   "cell_type": "code",
   "execution_count": 60,
   "id": "65f5b373",
   "metadata": {},
   "outputs": [
    {
     "data": {
      "text/plain": [
       "'LIC is a largest company in insurance sector in india.'"
      ]
     },
     "execution_count": 60,
     "metadata": {},
     "output_type": "execute_result"
    }
   ],
   "source": [
    "# let suppose we have a string value \n",
    "L= \" LIC is a largest company in insurance sector in india.           \"\n",
    "\n",
    "L.strip()"
   ]
  }
 ],
 "metadata": {
  "kernelspec": {
   "display_name": "Python 3 (ipykernel)",
   "language": "python",
   "name": "python3"
  },
  "language_info": {
   "codemirror_mode": {
    "name": "ipython",
    "version": 3
   },
   "file_extension": ".py",
   "mimetype": "text/x-python",
   "name": "python",
   "nbconvert_exporter": "python",
   "pygments_lexer": "ipython3",
   "version": "3.9.7"
  }
 },
 "nbformat": 4,
 "nbformat_minor": 5
}
